{
 "cells": [
  {
   "cell_type": "code",
   "execution_count": null,
   "id": "30d46f20",
   "metadata": {},
   "outputs": [],
   "source": [
    "# All Numbers with specific different"
   ]
  },
  {
   "cell_type": "code",
   "execution_count": 5,
   "id": "0d72ccaf",
   "metadata": {},
   "outputs": [
    {
     "name": "stdout",
     "output_type": "stream",
     "text": [
      "4\n"
     ]
    }
   ],
   "source": [
    "n =13\n",
    "d = 2\n",
    "low = 1\n",
    "high = 13\n",
    "while low <= high:\n",
    "    mid = (high + low)//2\n",
    "    sum_d = sum(int(digit) for digit in str(mid))\n",
    "    diff = mid- sum_d\n",
    "    if abs(diff) <= 2:\n",
    "        low = mid+1\n",
    "    else:\n",
    "        high = mid-1\n",
    "print(n-high)"
   ]
  },
  {
   "cell_type": "code",
   "execution_count": null,
   "id": "a1ebc252",
   "metadata": {},
   "outputs": [],
   "source": []
  }
 ],
 "metadata": {
  "kernelspec": {
   "display_name": "Python 3 (ipykernel)",
   "language": "python",
   "name": "python3"
  },
  "language_info": {
   "codemirror_mode": {
    "name": "ipython",
    "version": 3
   },
   "file_extension": ".py",
   "mimetype": "text/x-python",
   "name": "python",
   "nbconvert_exporter": "python",
   "pygments_lexer": "ipython3",
   "version": "3.12.6"
  }
 },
 "nbformat": 4,
 "nbformat_minor": 5
}
