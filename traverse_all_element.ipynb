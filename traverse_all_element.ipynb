{
 "cells": [
  {
   "cell_type": "code",
   "execution_count": 1,
   "id": "59fdf7dd-0ef7-4a13-b64c-e308630a902d",
   "metadata": {},
   "outputs": [
    {
     "name": "stdout",
     "output_type": "stream",
     "text": [
      "15\n"
     ]
    }
   ],
   "source": [
    "x = [\n",
    "    [11, 12, 13],\n",
    "    [14, 15, 16],\n",
    "    [17, 18, 19]\n",
    "]\n",
    "# Access of element of 2d rray\n",
    "op = x[1][1]  \n"
   ]
  },
  {
   "cell_type": "code",
   "execution_count": 3,
   "id": "1e98fb0a-6e9c-4a9d-bb76-f7f22908f3f7",
   "metadata": {},
   "outputs": [
    {
     "name": "stdout",
     "output_type": "stream",
     "text": [
      "11 12 13 \n",
      "14 15 16 \n",
      "17 18 19 \n"
     ]
    }
   ],
   "source": [
    "##traverse all element\n",
    "for i in x: #row\n",
    "    for j in i:  #i th row traversla of jth column\n",
    "        print(j,end = ' ')\n",
    "    print()"
   ]
  },
  {
   "cell_type": "code",
   "execution_count": null,
   "id": "d3d4afd4-f9e5-4199-9f61-f53d47724bf1",
   "metadata": {},
   "outputs": [],
   "source": []
  },
  {
   "cell_type": "code",
   "execution_count": 21,
   "id": "740c9252-5c2c-4161-9107-5c81e5f763e0",
   "metadata": {},
   "outputs": [
    {
     "name": "stdout",
     "output_type": "stream",
     "text": [
      "22 24 26 \n",
      "28 30 32 \n",
      "34 36 38 \n"
     ]
    }
   ],
   "source": [
    "# Accesss two metrics array\n",
    "x1 = [\n",
    "    [11, 12, 13],\n",
    "    [14, 15, 16],\n",
    "    [17, 18, 19]\n",
    "]\n",
    "x2 = [\n",
    "    [11, 12, 13],\n",
    "    [14, 15, 16],\n",
    "    [17, 18, 19]\n",
    "]\n",
    "\n",
    "# Access of element of 2d rray\n",
    "result = []\n",
    "\n",
    "# matric addition\n",
    "for i in range(len(x1)):\n",
    "    row = []\n",
    "    for j in range(len(x1[0])):\n",
    "        row.append(x1[i][j]+x2[i][j])\n",
    "    result.append(row)\n",
    "    \n",
    "# print Output\n",
    "for i in result:\n",
    "    for j in i:\n",
    "        print(j,end=' ')\n",
    "    print()"
   ]
  },
  {
   "cell_type": "markdown",
   "id": "1ca1c873-79db-4e53-b414-17d03c6b5bac",
   "metadata": {},
   "source": [
    "# Using Numpy"
   ]
  },
  {
   "cell_type": "code",
   "execution_count": 4,
   "id": "d88f049f-420d-449f-a8bf-13b170fa1f85",
   "metadata": {},
   "outputs": [
    {
     "name": "stdout",
     "output_type": "stream",
     "text": [
      "New Array\n",
      "[[22 24 26]\n",
      " [28 30 32]\n",
      " [34 36 38]]\n"
     ]
    }
   ],
   "source": [
    "import numpy as np\n",
    "x1 = np.array([\n",
    "    [11, 12, 13],\n",
    "    [14, 15, 16],\n",
    "    [17, 18, 19]\n",
    "])\n",
    "x2 = np.array([\n",
    "    [11, 12, 13],\n",
    "    [14, 15, 16],\n",
    "    [17, 18, 19]\n",
    "])\n",
    "print(\"New Array\")\n",
    "print(x1+x2)"
   ]
  },
  {
   "cell_type": "code",
   "execution_count": null,
   "id": "aed6c7b8-964f-4232-877a-cdb193efb5b3",
   "metadata": {},
   "outputs": [],
   "source": []
  },
  {
   "cell_type": "code",
   "execution_count": 11,
   "id": "6af799dd-1ec1-45fa-b75d-c24f5a922ca1",
   "metadata": {},
   "outputs": [
    {
     "name": "stdout",
     "output_type": "stream",
     "text": [
      "[[11.+0.j 12.+0.j 13.+0.j]\n",
      " [14.+0.j 15.+0.j 16.+0.j]\n",
      " [17.+0.j 18.+0.j 19.+0.j]]\n"
     ]
    }
   ],
   "source": [
    "import numpy as np\n",
    "x1 = np.array([\n",
    "    [11, 12, 13],\n",
    "    [14, 15, 16],\n",
    "    [17, 18, 19]\n",
    "], dtype = complex)\n",
    "print(x1)"
   ]
  },
  {
   "cell_type": "code",
   "execution_count": null,
   "id": "1d541191-2ffe-4d34-b8af-7f26f517240c",
   "metadata": {},
   "outputs": [],
   "source": []
  },
  {
   "cell_type": "markdown",
   "id": "cbd1f084-e3c3-4331-b130-e03c17c7615c",
   "metadata": {},
   "source": [
    "zeor() and once()"
   ]
  },
  {
   "cell_type": "code",
   "execution_count": 22,
   "id": "cf360689-793c-4258-8498-23292eac8543",
   "metadata": {},
   "outputs": [
    {
     "name": "stdout",
     "output_type": "stream",
     "text": [
      "[[1 1 1 1]\n",
      " [1 1 1 1]]\n"
     ]
    }
   ],
   "source": [
    "y = np.ones((2,4),dtype = np.int32)\n",
    "print(y)"
   ]
  },
  {
   "cell_type": "code",
   "execution_count": 26,
   "id": "0831db03-a6ba-48ef-a30d-c67026cd0d8e",
   "metadata": {},
   "outputs": [
    {
     "name": "stdout",
     "output_type": "stream",
     "text": [
      "[[0. 0. 0. 0.]\n",
      " [0. 0. 0. 0.]]\n"
     ]
    }
   ],
   "source": [
    "y = np.zeros((2,4))\n",
    "print(y)"
   ]
  },
  {
   "cell_type": "code",
   "execution_count": 28,
   "id": "ad47c342-3c7b-4926-913c-f6ac3205b12c",
   "metadata": {},
   "outputs": [
    {
     "name": "stdout",
     "output_type": "stream",
     "text": [
      "[[(1, 1.) (1, 1.) (1, 1.) (1, 1.)]\n",
      " [(1, 1.) (1, 1.) (1, 1.) (1, 1.)]]\n"
     ]
    }
   ],
   "source": [
    "y = np.ones((2,4),dtype = [('m','int'),('n','float')])\n",
    "print(y)"
   ]
  },
  {
   "cell_type": "code",
   "execution_count": 32,
   "id": "44d5a326-c067-4d9a-9215-d4e8882541d4",
   "metadata": {},
   "outputs": [
    {
     "name": "stdout",
     "output_type": "stream",
     "text": [
      "[[ 1  3  5  7]\n",
      " [ 9 11 13 15]\n",
      " [17 19 21 23]]\n"
     ]
    }
   ],
   "source": [
    "w = np.arange(1,24,2).reshape(3,4)\n",
    "print(w)"
   ]
  },
  {
   "cell_type": "code",
   "execution_count": 34,
   "id": "7e0682de-e065-4460-a3f0-b9fd1579d6e1",
   "metadata": {},
   "outputs": [
    {
     "name": "stdout",
     "output_type": "stream",
     "text": [
      "Row 0: [1 3 5 7]\n",
      "Row 1: [ 9 11 13 15]\n",
      "Row 1: [17 19 21 23]\n"
     ]
    }
   ],
   "source": [
    "print(\"Row 0:\",w[0])\n",
    "print(\"Row 1:\",w[1])\n",
    "print(\"Row 1:\",w[-1])  #Negative Indexing"
   ]
  },
  {
   "cell_type": "code",
   "execution_count": 36,
   "id": "85dc9450-70c8-4151-91c3-924caa5647c3",
   "metadata": {},
   "outputs": [
    {
     "name": "stdout",
     "output_type": "stream",
     "text": [
      "[[ 9 11 13 15]\n",
      " [17 19 21 23]]\n"
     ]
    }
   ],
   "source": [
    "#slicing Operatr\n",
    "print(w[1:])"
   ]
  },
  {
   "cell_type": "code",
   "execution_count": 40,
   "id": "7ee889ca-c4be-43ba-84e4-5191494e8bc1",
   "metadata": {},
   "outputs": [
    {
     "name": "stdout",
     "output_type": "stream",
     "text": [
      "[[17 19 21 23]\n",
      " [ 9 11 13 15]]\n"
     ]
    }
   ],
   "source": [
    "print(w[:0:-1])  # reverse array"
   ]
  },
  {
   "cell_type": "code",
   "execution_count": 50,
   "id": "c2031246-eb96-4494-9ffd-48c73e219fe1",
   "metadata": {},
   "outputs": [
    {
     "name": "stdout",
     "output_type": "stream",
     "text": [
      "Column - 0 [ 1  9 17]\n",
      "Column - 1 [ 3 11 19]\n",
      "Column - 1 [ 7 15 23]\n"
     ]
    }
   ],
   "source": [
    "#Column Access\n",
    "print(\"Column - 0\",w[:,0])\n",
    "print(\"Column - 1\",w[:,1])\n",
    "print(\"Column - 1\",w[:,-1]) # negative Indexing\n"
   ]
  },
  {
   "cell_type": "code",
   "execution_count": null,
   "id": "47ce13f8-3c5d-413a-a217-f4e68a6eec09",
   "metadata": {},
   "outputs": [],
   "source": []
  }
 ],
 "metadata": {
  "kernelspec": {
   "display_name": "Python 3 (ipykernel)",
   "language": "python",
   "name": "python3"
  },
  "language_info": {
   "codemirror_mode": {
    "name": "ipython",
    "version": 3
   },
   "file_extension": ".py",
   "mimetype": "text/x-python",
   "name": "python",
   "nbconvert_exporter": "python",
   "pygments_lexer": "ipython3",
   "version": "3.12.6"
  }
 },
 "nbformat": 4,
 "nbformat_minor": 5
}
