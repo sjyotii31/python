{
 "cells": [
  {
   "cell_type": "code",
   "execution_count": 7,
   "id": "f1130e98-226a-4ae6-839a-61474e200635",
   "metadata": {},
   "outputs": [
    {
     "name": "stdin",
     "output_type": "stream",
     "text": [
      "Enter elemet 1: 1\n",
      "Enter elemet 2: 2\n",
      "Enter elemet 3: 3\n",
      "Enter elemet 4: 4\n",
      "Enter elemet 5: 5\n",
      "Enter elemet 6: 6\n",
      "Enter elemet 7: 78\n",
      "Enter elemet 8: 9\n",
      "Enter elemet 9: 0\n",
      "Enter elemet 10: 8\n",
      "Enter elemet 11: 7\n",
      "Enter elemet 12: 65\n",
      "Enter elemet 13: 4\n"
     ]
    },
    {
     "name": "stdout",
     "output_type": "stream",
     "text": [
      "Array: [1, 2, 3, 4, 5, 6, 78, 9, 0, 8, 7, 65, 4]\n"
     ]
    }
   ],
   "source": [
    "n = int(input(\"Enter a  number:\"))\n",
    "arr = []\n",
    "for i in range(n):\n",
    "    val = int(input(f\"Enter elemet {i+1}:\"))\n",
    "    arr.append(val)\n",
    "print(\"Array:\",arr)"
   ]
  },
  {
   "cell_type": "code",
   "execution_count": null,
   "id": "67f47913-b809-42d7-bd31-5e7b4cf0c522",
   "metadata": {},
   "outputs": [],
   "source": []
  }
 ],
 "metadata": {
  "kernelspec": {
   "display_name": "Python 3 (ipykernel)",
   "language": "python",
   "name": "python3"
  },
  "language_info": {
   "codemirror_mode": {
    "name": "ipython",
    "version": 3
   },
   "file_extension": ".py",
   "mimetype": "text/x-python",
   "name": "python",
   "nbconvert_exporter": "python",
   "pygments_lexer": "ipython3",
   "version": "3.12.6"
  }
 },
 "nbformat": 4,
 "nbformat_minor": 5
}
