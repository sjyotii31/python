{
 "cells": [
  {
   "cell_type": "code",
   "execution_count": 26,
   "id": "219bdc19",
   "metadata": {},
   "outputs": [],
   "source": [
    "import numpy as np\n",
    "x = np.array([1,0,1,0,1,0,1])\n",
    "def coun(x):\n",
    "    count = 0\n",
    "    store = 0\n",
    "    for i in range(len(x)-1,-1,-1):\n",
    "        if x[i] == 0:\n",
    "            count+=1 \n",
    "        else:\n",
    "            if x[i] == 1:\n",
    "                store+=1\n",
    "    return np.array([1]*store+[0]*count)"
   ]
  },
  {
   "cell_type": "code",
   "execution_count": 27,
   "id": "60f09514",
   "metadata": {},
   "outputs": [
    {
     "data": {
      "text/plain": [
       "array([1, 1, 1, 1, 0, 0, 0])"
      ]
     },
     "execution_count": 27,
     "metadata": {},
     "output_type": "execute_result"
    }
   ],
   "source": [
    "coun(x)"
   ]
  },
  {
   "cell_type": "raw",
   "id": "be04e467",
   "metadata": {},
   "source": []
  },
  {
   "cell_type": "code",
   "execution_count": null,
   "id": "23821563",
   "metadata": {},
   "outputs": [],
   "source": []
  }
 ],
 "metadata": {
  "kernelspec": {
   "display_name": "Python 3 (ipykernel)",
   "language": "python",
   "name": "python3"
  },
  "language_info": {
   "codemirror_mode": {
    "name": "ipython",
    "version": 3
   },
   "file_extension": ".py",
   "mimetype": "text/x-python",
   "name": "python",
   "nbconvert_exporter": "python",
   "pygments_lexer": "ipython3",
   "version": "3.12.6"
  }
 },
 "nbformat": 4,
 "nbformat_minor": 5
}
