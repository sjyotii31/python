{
 "cells": [
  {
   "cell_type": "code",
   "execution_count": 5,
   "id": "198f8644",
   "metadata": {},
   "outputs": [
    {
     "name": "stdin",
     "output_type": "stream",
     "text": [
      "Enter a element: 10\n"
     ]
    },
    {
     "name": "stdout",
     "output_type": "stream",
     "text": [
      "0\n"
     ]
    }
   ],
   "source": [
    "import numpy as np\n",
    "x = np.array([10,20,30,40,50])\n",
    "def index_arr(x,s_ele):\n",
    "    try:\n",
    "        s_ele = int(s_ele)\n",
    "        n = len(x)\n",
    "        for i in range(n):\n",
    "            if x[i]  == s_ele:\n",
    "                return i\n",
    "        raise ValueError(\"Element is not found\")\n",
    "    except ValueError:\n",
    "        return -1\n",
    "s_ele = input(\"Enter a element:\")\n",
    "res = index_arr(x,s_ele)\n",
    "print(res)"
   ]
  },
  {
   "cell_type": "code",
   "execution_count": null,
   "id": "55630ecf",
   "metadata": {},
   "outputs": [],
   "source": []
  },
  {
   "cell_type": "code",
   "execution_count": null,
   "id": "e88127b5",
   "metadata": {},
   "outputs": [],
   "source": []
  }
 ],
 "metadata": {
  "kernelspec": {
   "display_name": "Python 3 (ipykernel)",
   "language": "python",
   "name": "python3"
  },
  "language_info": {
   "codemirror_mode": {
    "name": "ipython",
    "version": 3
   },
   "file_extension": ".py",
   "mimetype": "text/x-python",
   "name": "python",
   "nbconvert_exporter": "python",
   "pygments_lexer": "ipython3",
   "version": "3.12.6"
  }
 },
 "nbformat": 4,
 "nbformat_minor": 5
}
