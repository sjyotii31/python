{
 "cells": [
  {
   "cell_type": "markdown",
   "id": "2a5cf9ca",
   "metadata": {},
   "source": [
    "# GCD:"
   ]
  },
  {
   "cell_type": "code",
   "execution_count": 5,
   "id": "ab408a9b",
   "metadata": {},
   "outputs": [
    {
     "name": "stdout",
     "output_type": "stream",
     "text": [
      "Enter a number:12\n",
      "Enter a number:33\n",
      "GCD: 12\n"
     ]
    }
   ],
   "source": [
    "#Using many list\n",
    "def gcd(m,n):\n",
    "    fm = []\n",
    "    for i in range(1,m+1):\n",
    "        fm.append(i)\n",
    "    fn = []\n",
    "    for j in range(1,n+1):\n",
    "        fn.append(j)\n",
    "    cf = []\n",
    "    for k in fm:\n",
    "        if k in fn:\n",
    "            cf.append(k)\n",
    "    return cf[-1]\n",
    "m = int(input(\"Enter a number:\"))\n",
    "n = int(input(\"Enter a number:\"))\n",
    "print(\"GCD:\",gcd(m,n))"
   ]
  },
  {
   "cell_type": "code",
   "execution_count": null,
   "id": "306e3585",
   "metadata": {},
   "outputs": [],
   "source": [
    "#Using one list\n",
    "def gcd(m,n):\n",
    "    cf = []\n",
    "    for i in range(1,min(m,n)+1):\n",
    "        if m%i == 0 and n%i == 0:\n",
    "            cf.append(i)\n",
    "    return cf[-1]\n",
    "m = int(input(\"Enter a number:\"))\n",
    "n = int(input(\"Enter a number:\"))\n",
    "print(\"GCD:\", gcd(m, n))    "
   ]
  },
  {
   "cell_type": "code",
   "execution_count": null,
   "id": "8ee9934d",
   "metadata": {},
   "outputs": [],
   "source": [
    "#Without using list\n",
    "def gcd(m,n):\n",
    "    for i in range(1,min(m,n)+1):\n",
    "        if m%i == 0 and n%i==0:\n",
    "            mrcf = i\n",
    "    return mrcf\n",
    "m = int(input(\"Enter a number:\"))\n",
    "n = int(input(\"Enter a number:\"))\n",
    "print(\"GCD:\",gcd(m,n)) "
   ]
  },
  {
   "cell_type": "code",
   "execution_count": null,
   "id": "c6514230",
   "metadata": {},
   "outputs": [],
   "source": [
    "#Scan Backward\n",
    "def gcd(m,n):\n",
    "      while n !=0:\n",
    "            m,n = n,m%n\n",
    "      return m\n",
    "m = int(input(\"Enter a number:\"))\n",
    "n = int(input(\"Enter a number:\"))\n",
    "\n",
    "res = gcd(m,n)\n",
    "print(res)"
   ]
  },
  {
   "cell_type": "code",
   "execution_count": 4,
   "id": "c1a9e005",
   "metadata": {},
   "outputs": [
    {
     "name": "stdout",
     "output_type": "stream",
     "text": [
      "Enter a number:12\n",
      "Enter a number:33\n",
      "GCD: 3\n"
     ]
    }
   ],
   "source": [
    "#Using while loop\n",
    "def gcd(m,n):\n",
    "    i = min(m,n)\n",
    "    while i>0:\n",
    "        if m%i == 0 and n%i == 0:\n",
    "            return i\n",
    "        else:\n",
    "            i = i-1\n",
    "m = int(input(\"Enter a number:\"))\n",
    "n = int(input(\"Enter a number:\"))\n",
    "print(\"GCD:\",gcd(m,n))"
   ]
  },
  {
   "cell_type": "code",
   "execution_count": 8,
   "id": "2c962503",
   "metadata": {},
   "outputs": [
    {
     "name": "stdout",
     "output_type": "stream",
     "text": [
      "Enter a number:83\n",
      "Enter a number:19\n",
      "1\n"
     ]
    }
   ],
   "source": [
    "#Using Recurrsive method\n",
    "def gcd(m,n):\n",
    "    if n==0:\n",
    "        return m\n",
    "    return gcd(n,m%n)\n",
    "m = int(input(\"Enter a number:\"))\n",
    "n = int(input(\"Enter a number:\"))\n",
    "print(gcd(m,n))"
   ]
  },
  {
   "cell_type": "code",
   "execution_count": null,
   "id": "83ae68fa",
   "metadata": {},
   "outputs": [],
   "source": []
  }
 ],
 "metadata": {
  "kernelspec": {
   "display_name": "Python 3 (ipykernel)",
   "language": "python",
   "name": "python3"
  },
  "language_info": {
   "codemirror_mode": {
    "name": "ipython",
    "version": 3
   },
   "file_extension": ".py",
   "mimetype": "text/x-python",
   "name": "python",
   "nbconvert_exporter": "python",
   "pygments_lexer": "ipython3",
   "version": "3.12.6"
  }
 },
 "nbformat": 4,
 "nbformat_minor": 5
}
