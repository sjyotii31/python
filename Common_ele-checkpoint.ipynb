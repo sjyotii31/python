{
 "cells": [
  {
   "cell_type": "code",
   "execution_count": null,
   "id": "f7cc67f4",
   "metadata": {},
   "outputs": [],
   "source": [
    "import numppy as np\n",
    "arr1 = np.array([1,2,3,4,5])\n",
    "arr2 = np.array([1,3,5,7,9])\n",
    "def com_ele(arr1,arr2):\n",
    "    new_arr = []\n",
    "    for u ub arr1:\n",
    "        if i in arr2:\n",
    "            new_arr.append(i)\n",
    "    return np.array(new_arr)\n",
    "res = com_ele"
   ]
  }
 ],
 "metadata": {
  "kernelspec": {
   "display_name": "Python 3 (ipykernel)",
   "language": "python",
   "name": "python3"
  },
  "language_info": {
   "codemirror_mode": {
    "name": "ipython",
    "version": 3
   },
   "file_extension": ".py",
   "mimetype": "text/x-python",
   "name": "python",
   "nbconvert_exporter": "python",
   "pygments_lexer": "ipython3",
   "version": "3.12.6"
  }
 },
 "nbformat": 4,
 "nbformat_minor": 5
}
