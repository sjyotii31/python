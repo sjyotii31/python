{
 "cells": [
  {
   "cell_type": "code",
   "execution_count": 1,
   "id": "97157677-c0d3-46a3-9261-83e68986673f",
   "metadata": {},
   "outputs": [
    {
     "name": "stdin",
     "output_type": "stream",
     "text": [
      "Enter first number:  55\n",
      "Enter second number:  90\n"
     ]
    },
    {
     "name": "stdout",
     "output_type": "stream",
     "text": [
      "Addition: 145.0\n",
      "Subtraction: -35.0\n",
      "Multiplication: 4950.0\n",
      "Division: 0.61\n",
      "Modulus: 55.0\n",
      "Exponentiation: 4.29182548689135e+156\n",
      "Floor Division: 0.0\n"
     ]
    }
   ],
   "source": [
    "# Arithmetic Operations\n",
    "# Taking user input\n",
    "num1 = float(input(\"Enter first number: \"))\n",
    "num2 = float(input(\"Enter second number: \"))\n",
    "\n",
    "# Performing operations\n",
    "addition = num1 + num2\n",
    "subtraction = num1 - num2\n",
    "multiplication = num1 * num2\n",
    "division = num1 / num2\n",
    "modulus = num1 % num2\n",
    "exponentiation = num1 ** num2\n",
    "floor_division = num1 // num2\n",
    "\n",
    "# Displaying the results\n",
    "print(\"Addition:\", addition)\n",
    "print(\"Subtraction:\", subtraction)\n",
    "print(\"Multiplication:\", multiplication)\n",
    "print(\"Division:\", round(division, 2))\n",
    "print(\"Modulus:\", modulus)\n",
    "print(\"Exponentiation:\", exponentiation)\n",
    "print(\"Floor Division:\", floor_division)\n"
   ]
  },
  {
   "cell_type": "code",
   "execution_count": 3,
   "id": "1cc79308-8ef0-431d-b02a-26d73f28098a",
   "metadata": {},
   "outputs": [
    {
     "name": "stdin",
     "output_type": "stream",
     "text": [
      "Enter first number:  80\n",
      "Enter second number:  77\n"
     ]
    },
    {
     "name": "stdout",
     "output_type": "stream",
     "text": [
      "Is the first number greater than the second? True\n",
      "Are both numbers equal? False\n",
      "Is the first number less than or equal to the second? False\n"
     ]
    }
   ],
   "source": [
    "# Comparison Operators\n",
    "# Taking user input\n",
    "num1 = float(input(\"Enter first number: \"))\n",
    "num2 = float(input(\"Enter second number: \"))\n",
    "\n",
    "# Comparing the numbers\n",
    "greater = num1 > num2\n",
    "equal = num1 == num2\n",
    "less_equal = num1 <= num2\n",
    "\n",
    "# Displaying the results\n",
    "print(\"Is the first number greater than the second?\", greater)\n",
    "print(\"Are both numbers equal?\", equal)\n",
    "print(\"Is the first number less than or equal to the second?\", less_equal)\n"
   ]
  },
  {
   "cell_type": "code",
   "execution_count": 5,
   "id": "4e959938-e58c-4492-9e06-6d6908f233ae",
   "metadata": {},
   "outputs": [
    {
     "name": "stdin",
     "output_type": "stream",
     "text": [
      "Enter first boolean (1 for True, 0 for False):  3\n",
      "Enter second boolean (1 for True, 0 for False):  5\n",
      "Enter third boolean (1 for True, 0 for False):  7\n"
     ]
    },
    {
     "name": "stdout",
     "output_type": "stream",
     "text": [
      "Result of AND operation: True\n",
      "Result of OR operation: True\n",
      "Result of NOT operation on first value: False\n"
     ]
    }
   ],
   "source": [
    "# Logical Operators\n",
    "# Taking boolean inputs\n",
    "val1 = bool(int(input(\"Enter first boolean (1 for True, 0 for False): \")))\n",
    "val2 = bool(int(input(\"Enter second boolean (1 for True, 0 for False): \")))\n",
    "val3 = bool(int(input(\"Enter third boolean (1 for True, 0 for False): \")))\n",
    "\n",
    "# Applying logical operators\n",
    "and_result = val1 and val2 and val3\n",
    "or_result = val1 or val2 or val3\n",
    "not_result = not val1\n",
    "\n",
    "# Displaying the results\n",
    "print(\"Result of AND operation:\", and_result)\n",
    "print(\"Result of OR operation:\", or_result)\n",
    "print(\"Result of NOT operation on first value:\", not_result)\n"
   ]
  },
  {
   "cell_type": "code",
   "execution_count": 7,
   "id": "1e64065a-e8c8-4fe7-8b23-4b64b440c5cd",
   "metadata": {},
   "outputs": [
    {
     "name": "stdin",
     "output_type": "stream",
     "text": [
      "Enter a string:  33\n"
     ]
    },
    {
     "name": "stdout",
     "output_type": "stream",
     "text": [
      "Length of the string: 2\n",
      "First character: 3\n",
      "Last character: 3\n",
      "String in reverse: 33\n",
      "Uppercase: 33\n",
      "Lowercase: 33\n"
     ]
    }
   ],
   "source": [
    "# String Manipulation\n",
    "user_string = input(\"Enter a string: \")\n",
    "\n",
    "# Display results\n",
    "print(\"Length of the string:\", len(user_string))\n",
    "print(\"First character:\", user_string[0])\n",
    "print(\"Last character:\", user_string[-1])\n",
    "print(\"String in reverse:\", user_string[::-1])\n",
    "print(\"Uppercase:\", user_string.upper())\n",
    "print(\"Lowercase:\", user_string.lower())\n"
   ]
  },
  {
   "cell_type": "code",
   "execution_count": 9,
   "id": "6b8e60ff-731f-4a58-a4f1-ea57b9d31d98",
   "metadata": {},
   "outputs": [
    {
     "name": "stdin",
     "output_type": "stream",
     "text": [
      "Enter your name:  jyoti\n",
      "Enter your age:  22\n"
     ]
    },
    {
     "name": "stdout",
     "output_type": "stream",
     "text": [
      "Hello jyoti, you are 22 years old.\n"
     ]
    }
   ],
   "source": [
    "# String Formatting\n",
    "name = input(\"Enter your name: \")\n",
    "age = int(input(\"Enter your age: \"))\n",
    "\n",
    "# Formatting output\n",
    "print(f\"Hello {name}, you are {age} years old.\")\n"
   ]
  },
  {
   "cell_type": "code",
   "execution_count": 11,
   "id": "dab0a216-02cb-40dd-9ae5-c0260a30122b",
   "metadata": {},
   "outputs": [
    {
     "name": "stdin",
     "output_type": "stream",
     "text": [
      "Enter a sentence:  english is a popular language\n",
      "Enter a word to search:  is\n"
     ]
    },
    {
     "name": "stdout",
     "output_type": "stream",
     "text": [
      "The word 'is' is present at index 4.\n"
     ]
    }
   ],
   "source": [
    "# Substring Search\n",
    "sentence = input(\"Enter a sentence: \")\n",
    "word = input(\"Enter a word to search: \")\n",
    "\n",
    "# Checking if the word is in the sentence\n",
    "if word in sentence:\n",
    "    index = sentence.index(word)\n",
    "    print(f\"The word '{word}' is present at index {index}.\")\n",
    "else:\n",
    "    print(f\"The word '{word}' is not in the sentence.\")\n"
   ]
  },
  {
   "cell_type": "code",
   "execution_count": 13,
   "id": "9289a458-7cce-4f30-b8c4-ace150eeee80",
   "metadata": {},
   "outputs": [
    {
     "name": "stdin",
     "output_type": "stream",
     "text": [
      "Enter number 1:  1\n",
      "Enter number 2:  44\n",
      "Enter number 3:  78\n",
      "Enter number 4:  88\n",
      "Enter number 5:  10\n"
     ]
    },
    {
     "name": "stdout",
     "output_type": "stream",
     "text": [
      "Sum of numbers: 221.0\n",
      "Largest number: 88.0\n",
      "Smallest number: 1.0\n"
     ]
    }
   ],
   "source": [
    "# List Operations\n",
    "numbers = [float(input(f\"Enter number {i+1}: \")) for i in range(5)]\n",
    "\n",
    "# Performing operations\n",
    "total_sum = sum(numbers)\n",
    "largest = max(numbers)\n",
    "smallest = min(numbers)\n",
    "\n",
    "# Displaying results\n",
    "print(\"Sum of numbers:\", total_sum)\n",
    "print(\"Largest number:\", largest)\n",
    "print(\"Smallest number:\", smallest)\n"
   ]
  },
  {
   "cell_type": "code",
   "execution_count": 15,
   "id": "32e83b08-8f79-491b-bdf1-ee1a74990420",
   "metadata": {},
   "outputs": [
    {
     "name": "stdin",
     "output_type": "stream",
     "text": [
      "Enter your favorite fruit 1:  mango\n",
      "Enter your favorite fruit 2:  jack fruit\n",
      "Enter your favorite fruit 3:  custurd apple\n",
      "Enter your favorite fruit 4:  grapes\n",
      "Enter your favorite fruit 5:  orange\n",
      "Enter one more fruit:  apple\n"
     ]
    },
    {
     "name": "stdout",
     "output_type": "stream",
     "text": [
      "Updated list of fruits: ['mango', 'custurd apple', 'grapes', 'orange', 'apple']\n"
     ]
    }
   ],
   "source": [
    "# List Manipulation\n",
    "fruits = [input(f\"Enter your favorite fruit {i+1}: \") for i in range(5)]\n",
    "\n",
    "# Adding and removing elements\n",
    "fruits.append(input(\"Enter one more fruit: \"))\n",
    "fruits.pop(1)  # Removing second fruit\n",
    "\n",
    "# Displaying updated list\n",
    "print(\"Updated list of fruits:\", fruits)\n"
   ]
  },
  {
   "cell_type": "code",
   "execution_count": 17,
   "id": "d1ae5793-94cc-4b33-842b-c5317165cd72",
   "metadata": {},
   "outputs": [
    {
     "name": "stdin",
     "output_type": "stream",
     "text": [
      "Enter number 1:  79\n",
      "Enter number 2:  22\n",
      "Enter number 3:  56\n",
      "Enter number 4:  31\n",
      "Enter number 5:  09\n"
     ]
    },
    {
     "name": "stdout",
     "output_type": "stream",
     "text": [
      "List in ascending order: [9.0, 22.0, 31.0, 56.0, 79.0]\n",
      "List in descending order: [79.0, 56.0, 31.0, 22.0, 9.0]\n"
     ]
    }
   ],
   "source": [
    "# Sorting a List\n",
    "numbers = [float(input(f\"Enter number {i+1}: \")) for i in range(5)]\n",
    "\n",
    "# Sorting\n",
    "ascending = sorted(numbers)\n",
    "descending = sorted(numbers, reverse=True)\n",
    "\n",
    "# Displaying results\n",
    "print(\"List in ascending order:\", ascending)\n",
    "print(\"List in descending order:\", descending)\n"
   ]
  },
  {
   "cell_type": "code",
   "execution_count": 19,
   "id": "30c641c9-86ad-4e2d-bfd6-8c64f0966ac8",
   "metadata": {},
   "outputs": [
    {
     "name": "stdout",
     "output_type": "stream",
     "text": [
      "First 5 elements: [1, 2, 3, 4, 5]\n",
      "Last 5 elements: [6, 7, 8, 9, 10]\n",
      "Elements from index 2 to 7: [3, 4, 5, 6, 7, 8]\n"
     ]
    }
   ],
   "source": [
    "# List Slicing\n",
    "numbers = [1, 2, 3, 4, 5, 6, 7, 8, 9, 10]\n",
    "\n",
    "# Slicing the list\n",
    "print(\"First 5 elements:\", numbers[:5])\n",
    "print(\"Last 5 elements:\", numbers[-5:])\n",
    "print(\"Elements from index 2 to 7:\", numbers[2:8])\n"
   ]
  },
  {
   "cell_type": "code",
   "execution_count": 21,
   "id": "194e7935-8a02-41cf-89b7-d347fb5464d8",
   "metadata": {},
   "outputs": [
    {
     "name": "stdin",
     "output_type": "stream",
     "text": [
      "Enter student 1's name:  jyoti\n",
      "Enter Math score:  31\n",
      "Enter Science score:  35\n",
      "Enter English score:  40\n",
      "Enter student 2's name:  hanshika\n",
      "Enter Math score:  32\n",
      "Enter Science score:  32\n",
      "Enter English score:  39\n",
      "Enter student 3's name:  sruti\n",
      "Enter Math score:  35\n",
      "Enter Science score:  36\n",
      "Enter English score:  30\n"
     ]
    },
    {
     "name": "stdout",
     "output_type": "stream",
     "text": [
      "jyoti's average score: 35.33\n",
      "hanshika's average score: 34.33\n",
      "sruti's average score: 33.67\n"
     ]
    }
   ],
   "source": [
    "# Nested List\n",
    "students = []\n",
    "for i in range(3):\n",
    "    name = input(f\"Enter student {i+1}'s name: \")\n",
    "    scores = [float(input(f\"Enter {subject} score: \")) for subject in ['Math', 'Science', 'English']]\n",
    "    students.append([name, scores])\n",
    "\n",
    "# Displaying each student's average score\n",
    "for student in students:\n",
    "    name, scores = student\n",
    "    average = sum(scores) / len(scores)\n",
    "    print(f\"{name}'s average score: {average:.2f}\")\n"
   ]
  },
  {
   "cell_type": "code",
   "execution_count": null,
   "id": "f15b470e-3626-4045-923d-3c309a70f97c",
   "metadata": {},
   "outputs": [],
   "source": []
  }
 ],
 "metadata": {
  "kernelspec": {
   "display_name": "Python 3 (ipykernel)",
   "language": "python",
   "name": "python3"
  },
  "language_info": {
   "codemirror_mode": {
    "name": "ipython",
    "version": 3
   },
   "file_extension": ".py",
   "mimetype": "text/x-python",
   "name": "python",
   "nbconvert_exporter": "python",
   "pygments_lexer": "ipython3",
   "version": "3.12.4"
  }
 },
 "nbformat": 4,
 "nbformat_minor": 5
}
