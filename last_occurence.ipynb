{
 "cells": [
  {
   "cell_type": "code",
   "execution_count": 1,
   "id": "f89643b0",
   "metadata": {},
   "outputs": [
    {
     "name": "stdout",
     "output_type": "stream",
     "text": [
      "Last Occurence od 1: 6\n"
     ]
    }
   ],
   "source": [
    "import numpy as np\n",
    "x = np.array([0,0,1,1,0,0,1])\n",
    "def last_1(x):\n",
    "    index = -1\n",
    "    n = len(x)\n",
    "    for i in range(n):\n",
    "        if x[i] == 1:\n",
    "            index = i\n",
    "    return index\n",
    "result = last_1(x)\n",
    "print(\"Last Occurence od 1:\",result)    "
   ]
  },
  {
   "cell_type": "code",
   "execution_count": 3,
   "id": "43e187ea",
   "metadata": {},
   "outputs": [
    {
     "name": "stdout",
     "output_type": "stream",
     "text": [
      "1\n"
     ]
    }
   ],
   "source": []
  },
  {
   "cell_type": "code",
   "execution_count": null,
   "id": "c9a39a68-a9fe-4739-b470-55ad5b09ecee",
   "metadata": {},
   "outputs": [],
   "source": []
  }
 ],
 "metadata": {
  "kernelspec": {
   "display_name": "Python 3 (ipykernel)",
   "language": "python",
   "name": "python3"
  },
  "language_info": {
   "codemirror_mode": {
    "name": "ipython",
    "version": 3
   },
   "file_extension": ".py",
   "mimetype": "text/x-python",
   "name": "python",
   "nbconvert_exporter": "python",
   "pygments_lexer": "ipython3",
   "version": "3.12.6"
  }
 },
 "nbformat": 4,
 "nbformat_minor": 5
}
