{
 "cells": [
  {
   "cell_type": "code",
   "execution_count": 3,
   "id": "7017f93c-6169-4d24-b4de-42e8d382539f",
   "metadata": {},
   "outputs": [
    {
     "name": "stdout",
     "output_type": "stream",
     "text": [
      "120\n",
      "60\n",
      "40\n",
      "30\n",
      "24\n"
     ]
    }
   ],
   "source": [
    "n = [1,2,3,4,5]\n",
    "for i in range (len(n)):\n",
    "    prod = 1\n",
    "    for j in range (len(n)):\n",
    "        if i != j:\n",
    "            prod *= n[j]\n",
    "    print(prod)"
   ]
  },
  {
   "cell_type": "code",
   "execution_count": 5,
   "id": "7980f8cb-9d28-42e5-a6b6-38a3b33b6e0e",
   "metadata": {},
   "outputs": [
    {
     "name": "stdout",
     "output_type": "stream",
     "text": [
      "120\n",
      "60\n",
      "40\n",
      "30\n",
      "24\n",
      "None\n"
     ]
    }
   ],
   "source": [
    "import numpy as np\n",
    "x = [1,2,3,4,5]\n",
    "def spe_prod(x):\n",
    "    for i in range(len(x)):\n",
    "        prod = 1\n",
    "        for j in range(len(x)):\n",
    "            if i != j:\n",
    "                prod *= x[j]\n",
    "        print(prod)\n",
    "print(spe_prod(x))"
   ]
  },
  {
   "cell_type": "code",
   "execution_count": 19,
   "id": "d38fe7f0-2791-47b2-80db-4d7d586d16f9",
   "metadata": {},
   "outputs": [
    {
     "ename": "SyntaxError",
     "evalue": "'(' was never closed (40487662.py, line 9)",
     "output_type": "error",
     "traceback": [
      "\u001b[1;36m  Cell \u001b[1;32mIn[19], line 9\u001b[1;36m\u001b[0m\n\u001b[1;33m    print(np.array(new_arr)\u001b[0m\n\u001b[1;37m         ^\u001b[0m\n\u001b[1;31mSyntaxError\u001b[0m\u001b[1;31m:\u001b[0m '(' was never closed\n"
     ]
    }
   ],
   "source": [
    "import numpy as np\n",
    "a = np.array([1,2,3,4,5])\n",
    "b = np.array([1,2,6,8,5])\n",
    "def com_ele(a,b):\n",
    "    new_arr = []\n",
    "    for i in b:\n",
    "        if i in b:\n",
    "            new_arr.append(i)\n",
    "        print(np.array(new_arr)\n",
    "print(com_ele(a,b))"
   ]
  },
  {
   "cell_type": "code",
   "execution_count": 25,
   "id": "ee6e7401-d8d6-48f8-b21a-24fa8a33b729",
   "metadata": {},
   "outputs": [
    {
     "name": "stdout",
     "output_type": "stream",
     "text": [
      "[3 4 5]\n"
     ]
    }
   ],
   "source": [
    "arr1 = np.array([1,2,3,4,5])\n",
    "arr2 = np.array([7,0,3,4,5])\n",
    "res  = np.intersect1d(arr1,arr2)\n",
    "print(res)"
   ]
  },
  {
   "cell_type": "code",
   "execution_count": 31,
   "id": "67411d20-3db8-43ae-a8e9-760a86dc753c",
   "metadata": {},
   "outputs": [
    {
     "name": "stdin",
     "output_type": "stream",
     "text": [
      " 1234567\n"
     ]
    },
    {
     "name": "stdout",
     "output_type": "stream",
     "text": [
      "-1\n"
     ]
    }
   ],
   "source": [
    "import numpy as np\n",
    "x = np.array([10,20,30,40,50])\n",
    "def find_index(x,s_ele):\n",
    "    try:\n",
    "        s_ele = int(s_ele)\n",
    "        n = len(x)\n",
    "        for i in range(n):\n",
    "            if x[i] == s_ele:\n",
    "                return i\n",
    "        raise ValueError (\"Value Error\")\n",
    "    except ValueError:\n",
    "        return -1\n",
    "s_ele = int(input())\n",
    "print(find_index(x,s_ele))"
   ]
  },
  {
   "cell_type": "code",
   "execution_count": 7,
   "id": "3764f145-ede7-4408-8a39-689f4dbdbf9f",
   "metadata": {},
   "outputs": [
    {
     "name": "stdout",
     "output_type": "stream",
     "text": [
      "(1, 5, 5, 15, 3.0)\n"
     ]
    }
   ],
   "source": [
    "import numpy as np\n",
    "x = np.array([1,2,3,4,5])\n",
    "def exel(x):\n",
    "    min_val = np.min(x) \n",
    "    max_val = np.max(x)\n",
    "    length  = len(x)\n",
    "    add = np.sum(x)\n",
    "    avg = add/length\n",
    "    return min_val,max_val,length,add,avg\n",
    "print(exel(x))"
   ]
  },
  {
   "cell_type": "code",
   "execution_count": 17,
   "id": "11dcca01-d58e-43fa-b2fa-ad759722b414",
   "metadata": {},
   "outputs": [
    {
     "name": "stdout",
     "output_type": "stream",
     "text": [
      "[1, 2, 3, 4, 5]\n"
     ]
    }
   ],
   "source": [
    "x = [1,2,3,4,5,1,2]\n",
    "def rem_dup(x):\n",
    "    new = []\n",
    "    for i in x:\n",
    "        if i not in new:\n",
    "            new.append(i)\n",
    "    return new\n",
    "print(rem_dup(x))"
   ]
  },
  {
   "cell_type": "code",
   "execution_count": 23,
   "id": "fd7713ac-bf07-4cea-9d15-d70a1cfa6acb",
   "metadata": {},
   "outputs": [
    {
     "name": "stdout",
     "output_type": "stream",
     "text": [
      "[1, 2, 3, 44, 5, 6]\n"
     ]
    }
   ],
   "source": [
    "def rem_dup(x):\n",
    "    new = []\n",
    "    for i in x:\n",
    "        if i not in new:\n",
    "            new.append(i)\n",
    "    return new\n",
    "x = [1,2,3,44,5,5,6,1]\n",
    "print(rem_dup(x))"
   ]
  },
  {
   "cell_type": "code",
   "execution_count": 31,
   "id": "fb4b39a0-3464-4dc5-9e57-181868dcf7af",
   "metadata": {},
   "outputs": [
    {
     "name": "stdout",
     "output_type": "stream",
     "text": [
      "3\n",
      "2\n",
      "1\n",
      "0\n"
     ]
    }
   ],
   "source": [
    "x = [1,2,4,5]\n",
    "for i in range(len(x)-1,-1,-1):\n",
    "    print(i)"
   ]
  },
  {
   "cell_type": "code",
   "execution_count": 33,
   "id": "dacc4c9a-3a31-4910-ac13-fdd7bb950dc9",
   "metadata": {},
   "outputs": [
    {
     "name": "stdout",
     "output_type": "stream",
     "text": [
      "5\n",
      "4\n",
      "2\n",
      "1\n"
     ]
    }
   ],
   "source": [
    "for i in reversed(x):\n",
    "    print(i)"
   ]
  },
  {
   "cell_type": "code",
   "execution_count": 48,
   "id": "c57d52a5-d72d-40ff-ac9c-d531944137da",
   "metadata": {},
   "outputs": [],
   "source": [
    "class meraList:\n",
    "    def __init__(Self):\n",
    "        self.n = 0\n",
    "        self.size = 1\n",
    "        self.A = self.CreateArry(size)\n",
    "    def CreateArry(self,size):\n",
    "        return [None]*size"
   ]
  },
  {
   "cell_type": "code",
   "execution_count": 68,
   "id": "e4af3d2e-e583-4d25-8d30-a5ca948f127a",
   "metadata": {},
   "outputs": [],
   "source": [
    "#Append\n",
    "def append(self,item):\n",
    "    if self.n == self.size:\n",
    "        self.__resize(self.size *2)\n",
    "    self.A[self.n] = item\n",
    "    self.n = self.n +1"
   ]
  },
  {
   "cell_type": "code",
   "execution_count": 70,
   "id": "5fee8ba6-653f-4a60-b270-db988c1e707f",
   "metadata": {},
   "outputs": [],
   "source": [
    "my = meraList\n"
   ]
  },
  {
   "cell_type": "code",
   "execution_count": 72,
   "id": "a6a0f820-f698-49ac-90a3-c0026dae3b53",
   "metadata": {},
   "outputs": [
    {
     "ename": "AttributeError",
     "evalue": "type object 'meraList' has no attribute 'append'",
     "output_type": "error",
     "traceback": [
      "\u001b[1;31m---------------------------------------------------------------------------\u001b[0m",
      "\u001b[1;31mAttributeError\u001b[0m                            Traceback (most recent call last)",
      "Cell \u001b[1;32mIn[72], line 1\u001b[0m\n\u001b[1;32m----> 1\u001b[0m \u001b[43mmy\u001b[49m\u001b[38;5;241;43m.\u001b[39;49m\u001b[43mappend\u001b[49m(\u001b[38;5;241m20\u001b[39m)\n",
      "\u001b[1;31mAttributeError\u001b[0m: type object 'meraList' has no attribute 'append'"
     ]
    }
   ],
   "source": [
    "my.append(20)"
   ]
  },
  {
   "cell_type": "code",
   "execution_count": null,
   "id": "3630832f-7d97-497a-af55-c3e292b292d9",
   "metadata": {},
   "outputs": [],
   "source": []
  }
 ],
 "metadata": {
  "kernelspec": {
   "display_name": "Python 3 (ipykernel)",
   "language": "python",
   "name": "python3"
  },
  "language_info": {
   "codemirror_mode": {
    "name": "ipython",
    "version": 3
   },
   "file_extension": ".py",
   "mimetype": "text/x-python",
   "name": "python",
   "nbconvert_exporter": "python",
   "pygments_lexer": "ipython3",
   "version": "3.12.6"
  }
 },
 "nbformat": 4,
 "nbformat_minor": 5
}
