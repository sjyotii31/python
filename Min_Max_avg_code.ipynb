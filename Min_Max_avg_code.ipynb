{
 "cells": [
  {
   "cell_type": "code",
   "execution_count": 1,
   "id": "a1316189",
   "metadata": {},
   "outputs": [
    {
     "name": "stdout",
     "output_type": "stream",
     "text": [
      "(3, 98, 171, 28.5)\n"
     ]
    }
   ],
   "source": [
    "import numpy as np\n",
    "x = np.array([5,10,15,40,98,3])\n",
    "def exer1(x):\n",
    "    min_ele = np.min(x)\n",
    "    max_ele = np.max(x)\n",
    "    length = len(x)\n",
    "    add_all = np.sum(x)\n",
    "    avg = add_all / length\n",
    "    return min_ele,max_ele,add_all,avg\n",
    "result = exer1(x)\n",
    "print(result)"
   ]
  },
  {
   "cell_type": "code",
   "execution_count": null,
   "id": "b30caa18",
   "metadata": {},
   "outputs": [],
   "source": []
  }
 ],
 "metadata": {
  "kernelspec": {
   "display_name": "Python 3 (ipykernel)",
   "language": "python",
   "name": "python3"
  },
  "language_info": {
   "codemirror_mode": {
    "name": "ipython",
    "version": 3
   },
   "file_extension": ".py",
   "mimetype": "text/x-python",
   "name": "python",
   "nbconvert_exporter": "python",
   "pygments_lexer": "ipython3",
   "version": "3.12.6"
  }
 },
 "nbformat": 4,
 "nbformat_minor": 5
}
