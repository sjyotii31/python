{
 "cells": [
  {
   "cell_type": "markdown",
   "id": "b68ce0f1",
   "metadata": {},
   "source": [
    "# Array"
   ]
  },
  {
   "cell_type": "raw",
   "id": "723d6a6d",
   "metadata": {},
   "source": [
    "key idea:\n",
    "    intialize the size of an array to 'n'\n",
    "    Scan the array of 'n' integers\n",
    "    create an array as 'prod as' of store new value"
   ]
  },
  {
   "cell_type": "code",
   "execution_count": 13,
   "id": "5262557b",
   "metadata": {},
   "outputs": [
    {
     "name": "stdout",
     "output_type": "stream",
     "text": [
      "0 : 120\n",
      "1 : 60\n",
      "2 : 40\n",
      "3 : 30\n",
      "4 : 24\n"
     ]
    }
   ],
   "source": [
    "# Q-1\n",
    "n = [1,2,3,4,5]\n",
    "for i in range(len(n)):\n",
    "    prod = 1\n",
    "    for j in range(len(n)):\n",
    "        if i !=j:\n",
    "            prod *= n[j]\n",
    "    print(i,\":\",prod)"
   ]
  },
  {
   "cell_type": "raw",
   "id": "b5b0c8a5",
   "metadata": {},
   "source": [
    "Under the array all numbers with specific Difference\n",
    "N= 13 and D = 2\n",
    "Low = 1 & High = 13  \n",
    "Mid = (High + Low)/2\n",
    "if difference of mid and sum of its digit is <=2\n",
    "then,low = mid+1\n",
    "else -> high = mid -1\n",
    "at least if low >hight return (N-High)"
   ]
  },
  {
   "cell_type": "code",
   "execution_count": 17,
   "id": "78a52cdd",
   "metadata": {},
   "outputs": [
    {
     "ename": "NameError",
     "evalue": "name 'high' is not defined",
     "output_type": "error",
     "traceback": [
      "\u001b[1;31m---------------------------------------------------------------------------\u001b[0m",
      "\u001b[1;31mNameError\u001b[0m                                 Traceback (most recent call last)",
      "Cell \u001b[1;32mIn[17], line 16\u001b[0m\n\u001b[0;32m     13\u001b[0m Low \u001b[38;5;241m=\u001b[39m \u001b[38;5;241m8\u001b[39m\n\u001b[0;32m     14\u001b[0m High \u001b[38;5;241m=\u001b[39m \u001b[38;5;241m13\u001b[39m\n\u001b[1;32m---> 16\u001b[0m \u001b[38;5;28mprint\u001b[39m(\u001b[43mfin_numbers\u001b[49m\u001b[43m(\u001b[49m\u001b[43mn\u001b[49m\u001b[43m,\u001b[49m\u001b[43md\u001b[49m\u001b[43m,\u001b[49m\u001b[43mLow\u001b[49m\u001b[43m,\u001b[49m\u001b[43mHigh\u001b[49m\u001b[43m)\u001b[49m)\n",
      "Cell \u001b[1;32mIn[17], line 8\u001b[0m, in \u001b[0;36mfin_numbers\u001b[1;34m(n, d, Low, High)\u001b[0m\n\u001b[0;32m      6\u001b[0m         Low \u001b[38;5;241m=\u001b[39m mid\u001b[38;5;241m+\u001b[39m\u001b[38;5;241m1\u001b[39m\n\u001b[0;32m      7\u001b[0m     \u001b[38;5;28;01melse\u001b[39;00m:\n\u001b[1;32m----> 8\u001b[0m         High \u001b[38;5;241m=\u001b[39m n\u001b[38;5;241m-\u001b[39m\u001b[43mhigh\u001b[49m\n\u001b[0;32m      9\u001b[0m \u001b[38;5;28;01mreturn\u001b[39;00m n\u001b[38;5;241m-\u001b[39mHigh\n",
      "\u001b[1;31mNameError\u001b[0m: name 'high' is not defined"
     ]
    }
   ],
   "source": [
    "def fin_numbers(n,d,Low,High):\n",
    "    while Low <= High:\n",
    "        mid = (Low + High )/2\n",
    "        sum_of_digit = mid\n",
    "        if abs(mid - sum_of_digit):\n",
    "            Low = mid+1\n",
    "        else:\n",
    "            High = n-high\n",
    "    return n-High\n",
    "\n",
    "n = 7\n",
    "d = 2\n",
    "Low = 8\n",
    "High = 13\n",
    "\n",
    "print(fin_numbers(n,d,Low,High))\n",
    "        \n",
    "        "
   ]
  },
  {
   "cell_type": "markdown",
   "id": "9958bff8",
   "metadata": {},
   "source": [
    "# Array Library "
   ]
  },
  {
   "cell_type": "code",
   "execution_count": 3,
   "id": "9a04f07c",
   "metadata": {},
   "outputs": [
    {
     "name": "stdout",
     "output_type": "stream",
     "text": [
      "10\n",
      "20\n",
      "30\n",
      "40\n",
      "50\n"
     ]
    }
   ],
   "source": [
    "from array import *\n",
    "arr1 = array(\"i\",[10,20,30,40,50])\n",
    "for x in arr1:\n",
    "    print(x)"
   ]
  },
  {
   "cell_type": "raw",
   "id": "8963b9b6",
   "metadata": {},
   "source": [
    "Accessing Array Elememnt\n",
    "        ---> We can access each element of an array using the index of the element\n",
    "         "
   ]
  },
  {
   "cell_type": "code",
   "execution_count": 4,
   "id": "87701ed6",
   "metadata": {},
   "outputs": [
    {
     "name": "stdout",
     "output_type": "stream",
     "text": [
      "10\n",
      "20\n"
     ]
    }
   ],
   "source": [
    "from array import *\n",
    "arr1 = array('i',[10,20,30,40,50])\n",
    "print(arr1[0])\n",
    "print(arr1[1])"
   ]
  },
  {
   "cell_type": "raw",
   "id": "0e0f7297",
   "metadata": {},
   "source": [
    "Insertion Operation \n",
    "insert operation is to insert one or more data element into an array\n",
    "\n",
    "ex:- here, we add a data element at the middle of the array using the python in-built insert() method\n"
   ]
  },
  {
   "cell_type": "code",
   "execution_count": 11,
   "id": "63be37f2",
   "metadata": {},
   "outputs": [
    {
     "name": "stdout",
     "output_type": "stream",
     "text": [
      "10\n",
      "60\n",
      "20\n",
      "30\n",
      "40\n",
      "50\n"
     ]
    }
   ],
   "source": [
    "from array import *\n",
    "arr1 = array(\"i\",[10,20,30,40,50])\n",
    "arr1.insert(1,60)\n",
    "for x in arr1:\n",
    "    print(x)"
   ]
  },
  {
   "cell_type": "raw",
   "id": "47b86db3",
   "metadata": {},
   "source": [
    "Deletion Operation :\n",
    "    ---> Deletion refers tp removing an existing element from the array and re-organizing alla element of an arry\n",
    "    \n",
    "    ex :- Here, we remove a data element at the middle of the array using the pyhton in-built remove() method."
   ]
  },
  {
   "cell_type": "code",
   "execution_count": 12,
   "id": "4fcffbeb",
   "metadata": {},
   "outputs": [
    {
     "name": "stdout",
     "output_type": "stream",
     "text": [
      "10\n",
      "60\n",
      "20\n",
      "30\n",
      "50\n"
     ]
    }
   ],
   "source": [
    "arr1.remove(40)\n",
    "for x in arr1:\n",
    "    print(x)"
   ]
  },
  {
   "cell_type": "raw",
   "id": "777702d5",
   "metadata": {},
   "source": [
    "Search operation:\n",
    "    ---> You can perform a search for an array element based on its value or its index \n",
    "    \n",
    "    ex:- Search a data element using the pyhton.."
   ]
  },
  {
   "cell_type": "code",
   "execution_count": 15,
   "id": "c0c9e025",
   "metadata": {},
   "outputs": [
    {
     "name": "stdout",
     "output_type": "stream",
     "text": [
      "3\n"
     ]
    }
   ],
   "source": [
    "from array import *\n",
    "arr1 = array(\"i\",[10,20,30,40,50])\n",
    "print(arr1.index(40))"
   ]
  },
  {
   "cell_type": "raw",
   "id": "260c835d",
   "metadata": {},
   "source": [
    "Update Opeartion:\n",
    "    ---> Update operation refers to updating an existing an existing element from the array at a given index\n",
    "    "
   ]
  },
  {
   "cell_type": "code",
   "execution_count": 16,
   "id": "35d86b84",
   "metadata": {},
   "outputs": [
    {
     "name": "stdout",
     "output_type": "stream",
     "text": [
      "10\n",
      "20\n",
      "80\n",
      "40\n",
      "50\n"
     ]
    }
   ],
   "source": [
    "arr1[2] = 80\n",
    "for x in arr1:\n",
    "    print(x)"
   ]
  },
  {
   "cell_type": "code",
   "execution_count": 19,
   "id": "228bffd0",
   "metadata": {},
   "outputs": [
    {
     "name": "stdout",
     "output_type": "stream",
     "text": [
      "1\n",
      "6\n"
     ]
    }
   ],
   "source": [
    "# Q - Find the largest and smallest element in an array\n",
    "\n",
    "arr = [1,2,3,4,5,6]\n",
    "mi = min(arr)\n",
    "ma = max(arr)\n",
    "print(mi)\n",
    "print(ma)\n"
   ]
  },
  {
   "cell_type": "code",
   "execution_count": 25,
   "id": "a27525a5",
   "metadata": {},
   "outputs": [
    {
     "name": "stdout",
     "output_type": "stream",
     "text": [
      "Largest: 6\n",
      "Smallest: 1\n"
     ]
    }
   ],
   "source": [
    "def small_and_largest(arr):\n",
    "    largest  = smallest = arr[0]\n",
    "    for i in arr:\n",
    "        if i > largest :\n",
    "            largest = i\n",
    "        if i < smallest:\n",
    "            smallest = i\n",
    "    return largest, smallest\n",
    "arr = [1,2,3,4,5,6]\n",
    "largest , smallest = small_and_largest(arr)\n",
    "print(\"Largest:\",largest)\n",
    "print(\"Smallest:\",smallest)"
   ]
  },
  {
   "cell_type": "code",
   "execution_count": 26,
   "id": "7aa6c065",
   "metadata": {},
   "outputs": [
    {
     "name": "stdout",
     "output_type": "stream",
     "text": [
      "[6, 5, 4, 3, 2, 1]\n"
     ]
    }
   ],
   "source": [
    "# Reverse array\n",
    "arr = [1,2,3,4,5,6]\n",
    "sli_arr = arr[::-1]\n",
    "print(sli_arr)"
   ]
  },
  {
   "cell_type": "code",
   "execution_count": 29,
   "id": "4a5bf739",
   "metadata": {},
   "outputs": [
    {
     "name": "stdout",
     "output_type": "stream",
     "text": [
      "Original Data: [1, 2, 3, 4, 2, 4, 5]\n",
      "Inside a Set: {1, 2, 3, 4, 5}\n",
      "Convert a list: [1, 2, 3, 4, 5]\n"
     ]
    }
   ],
   "source": [
    "# To remove duplicates\n",
    "\n",
    "arr = [1,2,3,4,2,4,5]\n",
    "print(\"Original Data:\",arr)\n",
    "\n",
    "remove_dub = set(arr)\n",
    "print(\"Inside a Set:\" ,remove_dub)\n",
    "\n",
    "conv_lis = list(remove_dub)\n",
    "print(\"Convert a list:\",conv_lis)"
   ]
  },
  {
   "cell_type": "code",
   "execution_count": 39,
   "id": "f78d26e7",
   "metadata": {},
   "outputs": [
    {
     "name": "stdout",
     "output_type": "stream",
     "text": [
      "0\n"
     ]
    }
   ],
   "source": [
    "# Find the index of an Element\n",
    "arr = [1,2,3,4]\n",
    "print(arr.index(1))"
   ]
  },
  {
   "cell_type": "code",
   "execution_count": 26,
   "id": "86227b94",
   "metadata": {},
   "outputs": [
    {
     "name": "stdout",
     "output_type": "stream",
     "text": [
      "<class 'array.array'>\n",
      "1\n",
      "2\n",
      "3\n",
      "4\n",
      "5\n"
     ]
    }
   ],
   "source": [
    "import array as arr\n",
    "x = arr.array('i',[1,2,3,4,5])\n",
    "print(type(x))\n",
    "for i in x:\n",
    "    print(i)"
   ]
  },
  {
   "cell_type": "code",
   "execution_count": 29,
   "id": "28cd1a1a",
   "metadata": {},
   "outputs": [
    {
     "name": "stdout",
     "output_type": "stream",
     "text": [
      "1\n",
      "2\n",
      "20\n",
      "3\n",
      "4\n",
      "5\n"
     ]
    }
   ],
   "source": [
    "# Insert\n",
    "x.insert(2,20)\n",
    "for i in x:\n",
    "    print(i)"
   ]
  },
  {
   "cell_type": "code",
   "execution_count": 28,
   "id": "7c4dcf23",
   "metadata": {},
   "outputs": [
    {
     "name": "stdout",
     "output_type": "stream",
     "text": [
      "1\n",
      "2\n",
      "3\n",
      "4\n",
      "5\n"
     ]
    }
   ],
   "source": [
    "# Remove\n",
    "x.remove(20)\n",
    "for i in x:\n",
    "    print(i)"
   ]
  },
  {
   "cell_type": "code",
   "execution_count": 24,
   "id": "c55b5c5a",
   "metadata": {},
   "outputs": [
    {
     "name": "stdout",
     "output_type": "stream",
     "text": [
      "1\n",
      "10\n",
      "3\n",
      "4\n",
      "5\n"
     ]
    }
   ],
   "source": [
    "# Update:\n",
    "x[1]  = 10\n",
    "for i in x:\n",
    "    print(i)"
   ]
  },
  {
   "cell_type": "code",
   "execution_count": 39,
   "id": "bda5880a",
   "metadata": {},
   "outputs": [
    {
     "name": "stdout",
     "output_type": "stream",
     "text": [
      "(3, 98, 171, 28.5)\n"
     ]
    }
   ],
   "source": [
    "import numpy as np\n",
    "x = np.array([5,10,15,40,98,3])\n",
    "def exer1(x):\n",
    "    min_ele = np.min(x)\n",
    "    max_ele = np.max(x)\n",
    "    length = len(x)\n",
    "    add_all = np.sum(x)\n",
    "    avg = add_all / length\n",
    "    return min_ele,max_ele,add_all,avg\n",
    "result = exer1(x)\n",
    "print(result)\n",
    "\n",
    "\n",
    "# =========================================\n"
   ]
  },
  {
   "cell_type": "code",
   "execution_count": 42,
   "id": "87af4ad0",
   "metadata": {},
   "outputs": [
    {
     "name": "stdout",
     "output_type": "stream",
     "text": [
      "MIN: 3\n",
      "MAX: 98\n"
     ]
    }
   ],
   "source": [
    "import numpy as np\n",
    "x = np.array([5,10,15,40,98,3])\n",
    "print(\"MIN:\",np.min(x))\n",
    "print(\"MAX:\",np.max(x))"
   ]
  },
  {
   "cell_type": "code",
   "execution_count": 46,
   "id": "a713eef3",
   "metadata": {},
   "outputs": [
    {
     "name": "stdout",
     "output_type": "stream",
     "text": [
      "[ 3 98 40 15 10  5]\n",
      "3\n",
      "98\n",
      "40\n",
      "15\n",
      "10\n",
      "5\n"
     ]
    }
   ],
   "source": [
    "import numpy as np\n",
    "x = np.array([5,10,15,40,98,3])\n",
    "print(x[::-1])\n",
    "n = len(x)\n",
    "for i in range(n-1,-1,-1):\n",
    "    print(x[i])"
   ]
  },
  {
   "cell_type": "code",
   "execution_count": 58,
   "id": "e2697dc8",
   "metadata": {},
   "outputs": [
    {
     "name": "stdout",
     "output_type": "stream",
     "text": [
      "{1, 2, 3, 4}\n",
      "[1, 2, 3, 4]\n"
     ]
    }
   ],
   "source": [
    "x = [1,2,3,1,3,2,4]\n",
    "print(set(x))\n",
    "# use looping ans membership operator\n",
    "def rem_dup(x):\n",
    "    new_arr = []\n",
    "    for i in x:\n",
    "        if i not in new_arr:\n",
    "            new_arr.append(i)\n",
    "    return new_arr\n",
    "result = rem_dup(x)\n",
    "print(result)\n",
    "        "
   ]
  },
  {
   "cell_type": "code",
   "execution_count": null,
   "id": "fed73bf7",
   "metadata": {},
   "outputs": [],
   "source": []
  },
  {
   "cell_type": "code",
   "execution_count": null,
   "id": "bcfa95f5",
   "metadata": {},
   "outputs": [],
   "source": []
  }
 ],
 "metadata": {
  "kernelspec": {
   "display_name": "Python 3 (ipykernel)",
   "language": "python",
   "name": "python3"
  },
  "language_info": {
   "codemirror_mode": {
    "name": "ipython",
    "version": 3
   },
   "file_extension": ".py",
   "mimetype": "text/x-python",
   "name": "python",
   "nbconvert_exporter": "python",
   "pygments_lexer": "ipython3",
   "version": "3.12.6"
  }
 },
 "nbformat": 4,
 "nbformat_minor": 5
}
