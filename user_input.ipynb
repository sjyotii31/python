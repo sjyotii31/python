{
 "cells": [
  {
   "cell_type": "code",
   "execution_count": 41,
   "id": "f1130e98-226a-4ae6-839a-61474e200635",
   "metadata": {},
   "outputs": [
    {
     "name": "stdin",
     "output_type": "stream",
     "text": [
      "Enter a  number: 2\n",
      "Enter elemet 1: 1\n",
      "Enter elemet 2: 12\n"
     ]
    },
    {
     "name": "stdout",
     "output_type": "stream",
     "text": [
      "Array: [1, 12]\n"
     ]
    }
   ],
   "source": [
    "n = int(input(\"Enter a  number:\"))\n",
    "arr = []\n",
    "for i in range(n):\n",
    "    val = int(input(f\"Enter elemet {i+1}:\"))\n",
    "    arr.append(val)\n",
    "print(\"Array:\",arr)"
   ]
  },
  {
   "cell_type": "code",
   "execution_count": 31,
   "id": "67f47913-b809-42d7-bd31-5e7b4cf0c522",
   "metadata": {},
   "outputs": [],
   "source": []
  },
  {
   "cell_type": "code",
   "execution_count": null,
   "id": "ebd3b16d-03b1-4e0c-bfc0-3c17b0309bbf",
   "metadata": {},
   "outputs": [],
   "source": []
  }
 ],
 "metadata": {
  "kernelspec": {
   "display_name": "Python 3 (ipykernel)",
   "language": "python",
   "name": "python3"
  },
  "language_info": {
   "codemirror_mode": {
    "name": "ipython",
    "version": 3
   },
   "file_extension": ".py",
   "mimetype": "text/x-python",
   "name": "python",
   "nbconvert_exporter": "python",
   "pygments_lexer": "ipython3",
   "version": "3.12.6"
  }
 },
 "nbformat": 4,
 "nbformat_minor": 5
}
