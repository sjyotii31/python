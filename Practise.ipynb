{
 "cells": [
  {
   "cell_type": "code",
   "execution_count": 3,
   "id": "715bc032-bd0c-432c-84c8-2ebb3b6902a0",
   "metadata": {},
   "outputs": [
    {
     "name": "stdout",
     "output_type": "stream",
     "text": [
      "4\n"
     ]
    }
   ],
   "source": [
    "n= 13; d = 2\n",
    "low = 1; high = n\n",
    "while low <= high:\n",
    "    mid = (high +low) // 2 \n",
    "    sum_of_digits = sum(int(digit) for digit in str(mid))\n",
    "    if abs(mid - sum_of_digits) <=2:\n",
    "        low = mid+1\n",
    "    else:\n",
    "        high = mid -1\n",
    "result = n-high\n",
    "print(result)"
   ]
  },
  {
   "cell_type": "code",
   "execution_count": null,
   "id": "5a70e450-9811-4258-8af0-803248010e79",
   "metadata": {},
   "outputs": [],
   "source": []
  }
 ],
 "metadata": {
  "kernelspec": {
   "display_name": "Python 3 (ipykernel)",
   "language": "python",
   "name": "python3"
  },
  "language_info": {
   "codemirror_mode": {
    "name": "ipython",
    "version": 3
   },
   "file_extension": ".py",
   "mimetype": "text/x-python",
   "name": "python",
   "nbconvert_exporter": "python",
   "pygments_lexer": "ipython3",
   "version": "3.12.6"
  }
 },
 "nbformat": 4,
 "nbformat_minor": 5
}
